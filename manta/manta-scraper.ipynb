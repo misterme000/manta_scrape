{
 "cells": [
  {
   "cell_type": "code",
   "execution_count": 2,
   "metadata": {},
   "outputs": [],
   "source": [
    "import pandas as pd\n",
    "from bs4 import BeautifulSoup\n",
    "\n",
    "\n",
    "import undetected_chromedriver as uc\n",
    "from selenium.webdriver.common.desired_capabilities import DesiredCapabilities\n",
    "from selenium.webdriver.support.ui import WebDriverWait\n",
    "from selenium.webdriver.support import expected_conditions as EC\n",
    "from selenium.webdriver.common.by import By\n",
    "from selenium.webdriver.chrome.options import Options"
   ]
  },
  {
   "cell_type": "code",
   "execution_count": 6,
   "metadata": {},
   "outputs": [],
   "source": [
    "options = Options()\n",
    "options.add_argument('--headless')\n",
    "options.add_argument('--disable-gpu')\n",
    "\n",
    "caps = DesiredCapabilities().CHROME\n",
    "caps[\"pageLoadStrategy\"] = \"eager\""
   ]
  },
  {
   "cell_type": "code",
   "execution_count": 7,
   "metadata": {
    "tags": []
   },
   "outputs": [],
   "source": [
    "driver = uc.Chrome(desired_capabilities=caps, options=options)"
   ]
  },
  {
   "cell_type": "code",
   "execution_count": 8,
   "metadata": {},
   "outputs": [],
   "source": [
    "driver.get('https://www.manta.com/search?search_source=nav&search=Restaurants&city=New&state=york&device=desktop&screenResolution=2400x1300')"
   ]
  },
  {
   "cell_type": "code",
   "execution_count": 9,
   "metadata": {},
   "outputs": [
    {
     "name": "stdout",
     "output_type": "stream",
     "text": [
      "Requirement already satisfied: lxml in c:\\users\\general\\anaconda3\\lib\\site-packages (4.9.2)\n"
     ]
    }
   ],
   "source": [
    "!pip install lxml"
   ]
  },
  {
   "cell_type": "code",
   "execution_count": 10,
   "metadata": {},
   "outputs": [
    {
     "data": {
      "text/plain": [
       "35"
      ]
     },
     "execution_count": 10,
     "metadata": {},
     "output_type": "execute_result"
    }
   ],
   "source": [
    "soup = BeautifulSoup(driver.page_source, 'lxml')\n",
    "\n",
    "\n",
    "cards = soup.select('.md\\:mt-4')\n",
    "len(cards)"
   ]
  },
  {
   "cell_type": "code",
   "execution_count": 11,
   "metadata": {},
   "outputs": [
    {
     "data": {
      "text/plain": [
       "'www.99restaurants.com'"
      ]
     },
     "execution_count": 11,
     "metadata": {},
     "output_type": "execute_result"
    }
   ],
   "source": [
    "name = cards[0].select_one('.hover\\:text-primary-v1').text\n",
    "address_card = cards[0].select('.ml-4 div')\n",
    "address = address_card[0].text + ',' + ' ' + address_card[1].text\n",
    "phone = cards[0].select_one('.mt-2 div').text\n",
    "website = cards[0].select_one('.hover\\:underline')['href']\n",
    "website = website.replace('/urlverify?redirect=https%3A%2F%2F', '')\n",
    "if '/urlverify?redirect' in website:\n",
    "    website = website.replace('/urlverify?redirect=http%3A%2F%2F', '')\n",
    "website = website.replace(website[website.index('%'):], '')\n",
    "website"
   ]
  },
  {
   "cell_type": "code",
   "execution_count": 14,
   "metadata": {},
   "outputs": [
    {
     "name": "stdout",
     "output_type": "stream",
     "text": [
      "Page 1\n",
      "[{'Name': '99 Restaurants', 'Address': '8675 Clinton Street, New Hartford, NY', 'Phone': '(315) 736-9699', 'Website': 'www.99restaurants.com'}, {'Name': 'Zaro Restaurants LLC', 'Address': '1155 Mohawk Street, Utica, NY', 'Phone': '(315) 798-8918', 'Website': None}, {'Name': 'Mac-Clark Restaurants Inc', 'Address': 'Commercial Drive, New Hartford, NY', 'Phone': None, 'Website': None}, {'Name': \"Teddy's Restaurants\", 'Address': '851 Black River Boulevard North, Rome, NY', 'Phone': '(315) 336-7839', 'Website': None}, {'Name': 'A&W Restaurants', 'Address': '127 Genesee Street, Oneida, NY', 'Phone': '(315) 366-0340', 'Website': None}, {'Name': 'Thurston Restaurants', 'Address': '147 South Litchfield Street, Frankfort, NY', 'Phone': '(315) 894-2240', 'Website': None}, {'Name': 'A&W Restaurants', 'Address': '4067 State Route 26, Eaton, NY', 'Phone': '(315) 684-9001', 'Website': None}, {'Name': 'Turning Stone Resort Casino', 'Address': '5218 Patrick Road, Verona, undefined', 'Phone': '(800) 771-7711', 'Website': 'www.turningstone.com'}, {'Name': 'Golden Corral Buffet & Grill', 'Address': '2044 Glenwood Shopping Plaza, Oneida, NY', 'Phone': '(315) 557-3555', 'Website': 'goldencorralbuffetandgrill.godaddysites.com'}, {'Name': \"Cavarino's Pizzeria & Restaurant\", 'Address': '2907 NY-5, Frankfort, NY', 'Phone': '(315) 765-8007', 'Website': None}, {'Name': 'Little Caesars Pizza', 'Address': '1154 Mohawk Street, Utica, NY', 'Phone': '(315) 732-1800', 'Website': 'littlecaesars.com'}, {'Name': 'Little Caesars Pizza', 'Address': '4976 Commercial Drive, Yorkville, NY', 'Phone': '(315) 736-2700', 'Website': 'littlecaesars.com'}, {'Name': 'Blaze Pizza', 'Address': '4759 Commercial Drive, New Hartford, NY', 'Phone': '(315) 659-1112', 'Website': 'blazepizza.com'}, {'Name': 'Red Lobster', 'Address': '4573 Commercial Drive, New Hartford, NY', 'Phone': '(315) 768-6156', 'Website': 'www.redlobster.com'}, {'Name': 'Five Points Public House and Events Center', 'Address': '623 Columbia Street, Utica, NY', 'Phone': '(315) 733-4228', 'Website': None}, {'Name': \"Feast & Festivities By O'Connors\", 'Address': '8411 Seneca Turnpike, New Hartford, NY', 'Phone': '(315) 768-7037', 'Website': None}, {'Name': 'Minar Fine Indian Cuisine', 'Address': '609 French Road, New Hartford, NY', 'Phone': '(315) 797-9918', 'Website': 'uticaminar.com'}, {'Name': 'Murdered By The Mob', 'Address': None, 'Phone': '(212) 662-7469', 'Website': 'www.murderedbythemob.com'}, {'Name': \"Chesterfield's Tavolo\", 'Address': '131 N Genesee Street, Utica, NY', 'Phone': '(315) 732-9356', 'Website': None}, {'Name': 'Ancora!', 'Address': '261 Genesee Street, Utica, NY', 'Phone': '(315) 724-4815', 'Website': None}, {'Name': 'WP Wine & Liquor', 'Address': None, 'Phone': '(347) 749-2341', 'Website': None}, {'Name': 'Starbucks', 'Address': '4759 Commercial Drive, New Hartford, NY', 'Phone': '(315) 709-7464', 'Website': 'www.starbucks.com'}, {'Name': 'Business No Longer Operates', 'Address': None, 'Phone': None, 'Website': None}, {'Name': 'Chickenlicious', 'Address': '9827 River Road, Utica, NY', 'Phone': '(315) 790-5281', 'Website': None}, {'Name': 'Starbucks', 'Address': '71 North Genesee Street, Utica, NY', 'Phone': '(315) 930-0484', 'Website': 'www.starbucks.ca'}, {'Name': \"Michael T's Italian-American Specialties\", 'Address': '8390 Seneca Turnpike, New Hartford, NY', 'Phone': '(315) 724-4882', 'Website': None}, {'Name': 'Tropical Spanish restaurant', 'Address': None, 'Phone': '(212) 491-4300', 'Website': None}, {'Name': 'Starbucks', 'Address': '5365 New York 233, Westmoreland, NY', 'Phone': '(315) 853-3605', 'Website': 'www.starbucks.com'}, {'Name': \"Ra'Ge' Lounge & Restaurant\", 'Address': '1426 Lenox Avenue, Utica, NY', 'Phone': '(315) 765-8000', 'Website': None}, {'Name': 'Texas Roadhouse', 'Address': '4511 Commercial Drive, New Hartford, NY', 'Phone': '(315) 736-2958', 'Website': 'www.texasroadhouse.com'}, {'Name': 'sweetFrog', 'Address': '8643 Clinton Street, New Hartford, NY', 'Phone': '(315) 507-4093', 'Website': 'www.sweetfrog.com'}, {'Name': \"Jersey Mike's Subs\", 'Address': '4759 Commercial Drive, New Hartford, NY', 'Phone': '(315) 765-8044', 'Website': 'www.jerseymikes.com'}, {'Name': \"McGill's Whiskey Tavern and Grill\", 'Address': '2284 Highway 5, Utica, NY', 'Phone': '(315) 507-2512', 'Website': None}, {'Name': 'Little Caesars Pizza', 'Address': '140 Black River Boulevard, Rome, NY', 'Phone': '(315) 281-0888', 'Website': 'littlecaesars.com'}, {'Name': 'Bento Sushi', 'Address': '801 Cypress Street, Rome, NY', 'Phone': '(866) 337-8744', 'Website': None}]\n"
     ]
    }
   ],
   "source": [
    "items_list = []\n",
    "for x in range(1, 2):\n",
    "    driver.get(f'https://www.manta.com/search?search_source=nav&search=Restaurants&city=New&state=york&device=desktop&screenResolution=2400x1300&pg={x}')\n",
    "    print(f'Page {x}')\n",
    "    WebDriverWait(driver, 60).until(EC.presence_of_element_located((By.XPATH, '//*[@id=\"mapid\"]')))\n",
    "    soup = BeautifulSoup(driver.page_source, 'lxml')\n",
    "    cards = soup.select('.md\\:mt-4')\n",
    "\n",
    "    for card in cards:\n",
    "        try:\n",
    "            name = card.select_one('.hover\\:text-primary-v1').text\n",
    "        except:\n",
    "            name = None\n",
    "        try:\n",
    "            address_card = card.select('.ml-4 div')\n",
    "            address = address_card[0].text + ',' + ' ' + address_card[1].text\n",
    "        except:\n",
    "            address = None\n",
    "        try:\n",
    "            phone = card.select_one('.mt-2 div').text\n",
    "        except:\n",
    "            phone = None\n",
    "        try:\n",
    "            website = card.select_one('.hover\\:underline')['href']\n",
    "            website = website.replace('/urlverify?redirect=https%3A%2F%2F', '')\n",
    "            if '/urlverify?redirect' in website:\n",
    "                website = website.replace('/urlverify?redirect=http%3A%2F%2F', '')\n",
    "            else:\n",
    "                pass\n",
    "            website = website.replace(website[website.index('%'):], '')\n",
    "        except:\n",
    "            website = None\n",
    "\n",
    "        items = {\n",
    "            'Name': name,\n",
    "            'Address': address,\n",
    "            'Phone': phone,\n",
    "            'Website': website\n",
    "        }\n",
    "\n",
    "        items_list.append(items)\n",
    "    print(items_list)"
   ]
  },
  {
   "cell_type": "code",
   "execution_count": null,
   "metadata": {},
   "outputs": [],
   "source": []
  }
 ],
 "metadata": {
  "kernelspec": {
   "display_name": "Python 3 (ipykernel)",
   "language": "python",
   "name": "python3"
  },
  "language_info": {
   "codemirror_mode": {
    "name": "ipython",
    "version": 3
   },
   "file_extension": ".py",
   "mimetype": "text/x-python",
   "name": "python",
   "nbconvert_exporter": "python",
   "pygments_lexer": "ipython3",
   "version": "3.11.2"
  },
  "vscode": {
   "interpreter": {
    "hash": "fdb6fc7dd92a6cfcca3c68720bd737aecb050a4076f66a2a3431be09449648ae"
   }
  }
 },
 "nbformat": 4,
 "nbformat_minor": 4
}
